{
 "cells": [
  {
   "cell_type": "code",
   "execution_count": 38,
   "metadata": {},
   "outputs": [],
   "source": [
    "import numpy as np\n",
    "import sympy as sp"
   ]
  },
  {
   "cell_type": "code",
   "execution_count": 39,
   "metadata": {},
   "outputs": [
    {
     "data": {
      "text/latex": [
       "$\\displaystyle v_{0}$"
      ],
      "text/plain": [
       "v0"
      ]
     },
     "execution_count": 39,
     "metadata": {},
     "output_type": "execute_result"
    }
   ],
   "source": [
    "sp.symbols('v0')"
   ]
  },
  {
   "cell_type": "code",
   "execution_count": 40,
   "metadata": {},
   "outputs": [],
   "source": [
    "symbols = {str(key): sp.symbols(key) for key in [\"v0\", \"w0\", \"E\", \"h\", \"D\", \"x0\", \"p0\"]}"
   ]
  },
  {
   "cell_type": "code",
   "execution_count": 41,
   "metadata": {},
   "outputs": [
    {
     "data": {
      "text/plain": [
       "{'v0': v0, 'w0': w0, 'E': E, 'h': h, 'D': D, 'x0': x0, 'p0': p0}"
      ]
     },
     "execution_count": 41,
     "metadata": {},
     "output_type": "execute_result"
    }
   ],
   "source": [
    "symbols"
   ]
  },
  {
   "cell_type": "code",
   "execution_count": 42,
   "metadata": {},
   "outputs": [
    {
     "data": {
      "text/plain": [
       "['v0', 'w0', 'E', 'h', 'D', 'x0', 'p0']"
      ]
     },
     "execution_count": 42,
     "metadata": {},
     "output_type": "execute_result"
    }
   ],
   "source": [
    "list(symbols.keys())"
   ]
  },
  {
   "cell_type": "code",
   "execution_count": 43,
   "metadata": {},
   "outputs": [],
   "source": [
    "v0, w0, E, h, D, x0, p0 = sp.symbols(\"v0 w0 E h D^* x0 p0\")\n",
    "R = sp.symbols(\"R\")"
   ]
  },
  {
   "cell_type": "code",
   "execution_count": 44,
   "metadata": {},
   "outputs": [],
   "source": [
    "coeff_list = {'membrane': v0**2 / (E * h * x0**2),\n",
    "              'bending': D * w0**2 / x0**2,\n",
    "              'coupling': v0 * w0 **2 / x0**2,\n",
    "              'load_transverse': p0 * x0 **2 * w0,\n",
    "              'load_disclinations': x0**2 * v0 * E * h}"
   ]
  },
  {
   "cell_type": "code",
   "execution_count": 45,
   "metadata": {},
   "outputs": [
    {
     "data": {
      "text/plain": [
       "{'membrane': v0**2/(E*h*x0**2),\n",
       " 'bending': D^**w0**2/x0**2,\n",
       " 'coupling': v0*w0**2/x0**2,\n",
       " 'load_transverse': p0*w0*x0**2,\n",
       " 'load_disclinations': E*h*v0*x0**2}"
      ]
     },
     "execution_count": 45,
     "metadata": {},
     "output_type": "execute_result"
    }
   ],
   "source": [
    "coeff_list"
   ]
  },
  {
   "cell_type": "code",
   "execution_count": 56,
   "metadata": {},
   "outputs": [],
   "source": [
    "def apply_conditions(coeff_list):\n",
    "    \"\"\"Apply the conditions and solve for the parameters.\"\"\"\n",
    "    # Set x0 to 1\n",
    "    x0_value = R\n",
    "    D_value = E * h**3\n",
    "    \n",
    "    # Substitute x0 and D into the coefficients\n",
    "    coeff_list_substituted = {key: coeff.subs({x0: x0_value, D: D_value}) \n",
    "                              for key, coeff in coeff_list.items()}\n",
    "        \n",
    "    return coeff_list_substituted\n",
    "\n",
    "def rescale_by_membrane(coeff_list):\n",
    "    \"\"\"Rescale the coefficients by the membrane coefficient.\"\"\"\n",
    "    membrane_coeff = coeff_list['membrane']\n",
    "    rescaled_coefficients = {key: sp.simplify(coeff / membrane_coeff) for key, coeff in coeff_list.items()}\n",
    "    return rescaled_coefficients\n",
    "\n",
    "\n",
    "def scaling(coeff_list):\n",
    "    \"\"\"Apply the conditions and solve for the parameters.\"\"\"\n",
    "    # Set x0 to 1\n",
    "    x0_value = 1\n",
    "    \n",
    "    # Substitute x0 and D into the coefficients\n",
    "    coeff_list_substituted = {key: coeff.subs({x0: R}) for key, coeff in coeff_list.items()}\n",
    "    \n",
    "    # Setting membrane, bending, and coupling coefficients to 1\n",
    "    # membrane_condition = sp.Eq(coeff_list_substituted['membrane'], 1)\n",
    "    coupling_condition = sp.Eq(coeff_list['coupling'], 1)\n",
    "    bending_condition = sp.Eq(coeff_list['bending'], 1)\n",
    "    \n",
    "    # Solve for v0, w0\n",
    "    v0_scale = sp.solve(bending_condition, v0)[0]\n",
    "    w0_scale = sp.solve(coupling_condition.subs(v0, v0_scale), w0)[0]\n",
    "    \n",
    "    return v0_scale, w0_scale, coeff_list_substituted"
   ]
  },
  {
   "cell_type": "code",
   "execution_count": 57,
   "metadata": {},
   "outputs": [
    {
     "data": {
      "text/plain": [
       "{'membrane': v0**2/(E*R**2*h),\n",
       " 'bending': E*h**3*w0**2/R**2,\n",
       " 'coupling': v0*w0**2/R**2,\n",
       " 'load_transverse': R**2*p0*w0,\n",
       " 'load_disclinations': E*R**2*h*v0}"
      ]
     },
     "execution_count": 57,
     "metadata": {},
     "output_type": "execute_result"
    }
   ],
   "source": [
    "coeff_list_substituted = apply_conditions(coeff_list)\n",
    "coeff_list_substituted"
   ]
  },
  {
   "cell_type": "code",
   "execution_count": 58,
   "metadata": {},
   "outputs": [
    {
     "data": {
      "text/plain": [
       "{'membrane': 1,\n",
       " 'bending': E**2*h**4*w0**2/v0**2,\n",
       " 'coupling': E*h*w0**2/v0,\n",
       " 'load_transverse': E*R**4*h*p0*w0/v0**2,\n",
       " 'load_disclinations': E**2*R**4*h**2/v0}"
      ]
     },
     "execution_count": 58,
     "metadata": {},
     "output_type": "execute_result"
    }
   ],
   "source": [
    "rescaled_coefficients = rescale_by_membrane(coeff_list_substituted)\n",
    "rescaled_coefficients"
   ]
  },
  {
   "cell_type": "code",
   "execution_count": 59,
   "metadata": {},
   "outputs": [
    {
     "name": "stdout",
     "output_type": "stream",
     "text": [
      "Rescaled coefficients by the membrane coefficient:\n",
      "membrane:\n",
      "1\n",
      "\n",
      "bending:\n",
      " 2  4   2\n",
      "E ⋅h ⋅w₀ \n",
      "─────────\n",
      "     2   \n",
      "   v₀    \n",
      "\n",
      "coupling:\n",
      "      2\n",
      "E⋅h⋅w₀ \n",
      "───────\n",
      "   v₀  \n",
      "\n",
      "load_transverse:\n",
      "   4        \n",
      "E⋅R ⋅h⋅p₀⋅w₀\n",
      "────────────\n",
      "      2     \n",
      "    v₀      \n",
      "\n",
      "load_disclinations:\n",
      " 2  4  2\n",
      "E ⋅R ⋅h \n",
      "────────\n",
      "   v₀   \n",
      "\n"
     ]
    }
   ],
   "source": [
    "# Pretty print the rescaled coefficients\n",
    "print(\"Rescaled coefficients by the membrane coefficient:\")\n",
    "for key, value in rescaled_coefficients.items():\n",
    "    print(f\"{key}:\")\n",
    "    sp.pprint(value)\n",
    "    print()  # for better readability\n"
   ]
  },
  {
   "cell_type": "code",
   "execution_count": 60,
   "metadata": {},
   "outputs": [
    {
     "data": {
      "text/latex": [
       "$\\displaystyle \\frac{E h w_{0}^{2}}{v_{0}} = 1$"
      ],
      "text/plain": [
       "Eq(E*h*w0**2/v0, 1)"
      ]
     },
     "execution_count": 60,
     "metadata": {},
     "output_type": "execute_result"
    }
   ],
   "source": [
    "coupling_condition = sp.Eq(rescaled_coefficients['coupling'], 1)\n",
    "bending_condition = sp.Eq(rescaled_coefficients['bending'], 1)\n",
    "\n",
    "coupling_condition\n"
   ]
  },
  {
   "cell_type": "code",
   "execution_count": 61,
   "metadata": {},
   "outputs": [
    {
     "data": {
      "text/latex": [
       "$\\displaystyle \\frac{E^{2} h^{4} w_{0}^{2}}{v_{0}^{2}} = 1$"
      ],
      "text/plain": [
       "Eq(E**2*h**4*w0**2/v0**2, 1)"
      ]
     },
     "execution_count": 61,
     "metadata": {},
     "output_type": "execute_result"
    }
   ],
   "source": [
    "bending_condition"
   ]
  },
  {
   "cell_type": "code",
   "execution_count": 62,
   "metadata": {},
   "outputs": [
    {
     "data": {
      "text/latex": [
       "$\\displaystyle E h w_{0}^{2}$"
      ],
      "text/plain": [
       "E*h*w0**2"
      ]
     },
     "execution_count": 62,
     "metadata": {},
     "output_type": "execute_result"
    }
   ],
   "source": [
    "v0_scaled = sp.solve(coupling_condition, v0)[0]\n",
    "v0_scaled"
   ]
  },
  {
   "cell_type": "code",
   "execution_count": 63,
   "metadata": {},
   "outputs": [
    {
     "data": {
      "text/latex": [
       "$\\displaystyle \\frac{h^{2}}{w_{0}^{2}} = 1$"
      ],
      "text/plain": [
       "Eq(h**2/w0**2, 1)"
      ]
     },
     "execution_count": 63,
     "metadata": {},
     "output_type": "execute_result"
    }
   ],
   "source": [
    "bending_condition.subs(v0, v0_scaled)"
   ]
  },
  {
   "cell_type": "code",
   "execution_count": 64,
   "metadata": {},
   "outputs": [
    {
     "data": {
      "text/latex": [
       "$\\displaystyle h$"
      ],
      "text/plain": [
       "h"
      ]
     },
     "execution_count": 64,
     "metadata": {},
     "output_type": "execute_result"
    }
   ],
   "source": [
    "w0_scaled = sp.solve(bending_condition.subs(v0, v0_scaled), w0)[1]\n",
    "w0_scaled\n"
   ]
  },
  {
   "cell_type": "code",
   "execution_count": 65,
   "metadata": {},
   "outputs": [],
   "source": [
    "v0_scaled = v0_scaled.subs(w0, w0_scaled)\n"
   ]
  },
  {
   "cell_type": "code",
   "execution_count": 68,
   "metadata": {},
   "outputs": [
    {
     "data": {
      "text/plain": [
       "{'membrane': 1,\n",
       " 'bending': 1,\n",
       " 'coupling': 1,\n",
       " 'load_transverse': R**4*p0/(E*h**4),\n",
       " 'load_disclinations': E*R**4/h}"
      ]
     },
     "execution_count": 68,
     "metadata": {},
     "output_type": "execute_result"
    }
   ],
   "source": [
    "coeff_list_scaled = {key: coeff.subs({v0: v0_scaled, w0: w0_scaled, x0: R}) \n",
    "                            for key, coeff in rescaled_coefficients.items()}\n",
    "coeff_list_scaled"
   ]
  },
  {
   "cell_type": "code",
   "execution_count": 69,
   "metadata": {},
   "outputs": [
    {
     "name": "stdout",
     "output_type": "stream",
     "text": [
      "Rescaled coefficients by the membrane coefficient:\n",
      "membrane:\n",
      "1\n",
      "\n",
      "bending:\n",
      "1\n",
      "\n",
      "coupling:\n",
      "1\n",
      "\n",
      "load_transverse:\n",
      " 4   \n",
      "R ⋅p₀\n",
      "─────\n",
      "    4\n",
      " E⋅h \n",
      "\n",
      "load_disclinations:\n",
      "   4\n",
      "E⋅R \n",
      "────\n",
      " h  \n",
      "\n"
     ]
    }
   ],
   "source": [
    "print(\"Rescaled coefficients by the membrane coefficient:\")\n",
    "for key, value in coeff_list_scaled.items():\n",
    "    print(f\"{key}:\")\n",
    "    sp.pprint(value)\n",
    "    print()  # for better readability\n"
   ]
  }
 ],
 "metadata": {
  "kernelspec": {
   "display_name": ".venv",
   "language": "python",
   "name": "python3"
  },
  "language_info": {
   "codemirror_mode": {
    "name": "ipython",
    "version": 3
   },
   "file_extension": ".py",
   "mimetype": "text/x-python",
   "name": "python",
   "nbconvert_exporter": "python",
   "pygments_lexer": "ipython3",
   "version": "3.12.2"
  }
 },
 "nbformat": 4,
 "nbformat_minor": 2
}
