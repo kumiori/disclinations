{
 "cells": [
  {
   "cell_type": "code",
   "execution_count": 59,
   "metadata": {},
   "outputs": [],
   "source": [
    "import numpy as np\n",
    "import sympy as sp\n",
    "from IPython.display import display, Math\n",
    "\n"
   ]
  },
  {
   "cell_type": "markdown",
   "metadata": {},
   "source": [
    "# Rescaling the energy\n",
    "\n",
    "$$\n",
    "E(y):=\n",
    "\\underbrace{\\frac{-1}{2 Eh}\\int_\\Omega |\\nabla^2 v|^2 - \\nu [v, v]}_{\\text{membrane}} +\n",
    "\\underbrace{\\frac{D^*}{2}c_\\nu\\int_\\Omega |\\Delta w|^2 - (1-\\nu) [w, w]}_{\\text{bending}} +\n",
    "\\underbrace{\\frac{1}{2 }\\int_\\Omega J^T \\nabla^2 v J: \\nabla w\\otimes \\nabla w}_{\\text{coupling}} \n",
    "- \\underbrace{\\int_\\Omega p w }_{\\text{transv. pressure}} \n",
    "+ \\underbrace{ \\sum_i\\int_\\Omega s_i \\delta_{x_i} v}_{\\text{disclinations}} \n",
    "$$\n",
    "\n",
    "where $E$ is the 3d Young's modulus and $D^*c_\\nu:=D=\\frac{E h^3}{12(1-\\nu^2)}$ is the bending modulus, $h$ is the thickness of the plate"
   ]
  },
  {
   "cell_type": "code",
   "execution_count": 70,
   "metadata": {},
   "outputs": [],
   "source": [
    "symbols = {str(key): sp.symbols(key) for key in [\"v0\", \"w0\", \"E\", \"h\", \"D\", \"x0\", \"p0\"]}"
   ]
  },
  {
   "cell_type": "markdown",
   "metadata": {},
   "source": [
    "## Parameters\n",
    "$v_0, w_0, E, h, D, x_0, p_0$\n",
    "\n",
    "of which $v_0, w_0, x_0$ are free."
   ]
  },
  {
   "cell_type": "code",
   "execution_count": 71,
   "metadata": {},
   "outputs": [
    {
     "data": {
      "text/plain": [
       "{'v0': v0, 'w0': w0, 'E': E, 'h': h, 'D': D, 'x0': x0, 'p0': p0}"
      ]
     },
     "execution_count": 71,
     "metadata": {},
     "output_type": "execute_result"
    }
   ],
   "source": [
    "symbols"
   ]
  },
  {
   "cell_type": "code",
   "execution_count": 72,
   "metadata": {},
   "outputs": [
    {
     "data": {
      "text/plain": [
       "['v0', 'w0', 'E', 'h', 'D', 'x0', 'p0']"
      ]
     },
     "execution_count": 72,
     "metadata": {},
     "output_type": "execute_result"
    }
   ],
   "source": [
    "list(symbols.keys())"
   ]
  },
  {
   "cell_type": "code",
   "execution_count": 73,
   "metadata": {},
   "outputs": [],
   "source": [
    "v0, w0, E, h, D, x0, p0 = sp.symbols(\"v0 w0 E h D^* x0 p0\")\n",
    "R = sp.symbols(\"R\")"
   ]
  },
  {
   "cell_type": "code",
   "execution_count": 78,
   "metadata": {},
   "outputs": [],
   "source": [
    "coeff_list = {'membrane': v0**2 / (E * h * x0**2),\n",
    "              'bending': D * w0**2 / x0**2,\n",
    "              'coupling': v0 * w0 **2 / x0**2,\n",
    "              'load_transverse': p0 * x0 **2 * w0,\n",
    "              'load_disclinations': v0}\n",
    "\n",
    "\n",
    "# E "
   ]
  },
  {
   "cell_type": "code",
   "execution_count": 69,
   "metadata": {},
   "outputs": [
    {
     "data": {
      "text/plain": [
       "'membrane'"
      ]
     },
     "metadata": {},
     "output_type": "display_data"
    },
    {
     "data": {
      "text/latex": [
       "$\\displaystyle \\frac{v_{0}^{2}}{E h x_{0}^{2}}$"
      ],
      "text/plain": [
       "<IPython.core.display.Math object>"
      ]
     },
     "metadata": {},
     "output_type": "display_data"
    },
    {
     "data": {
      "text/plain": [
       "'bending'"
      ]
     },
     "metadata": {},
     "output_type": "display_data"
    },
    {
     "data": {
      "text/latex": [
       "$\\displaystyle \\frac{D^{*} w_{0}^{2}}{x_{0}^{2}}$"
      ],
      "text/plain": [
       "<IPython.core.display.Math object>"
      ]
     },
     "metadata": {},
     "output_type": "display_data"
    },
    {
     "data": {
      "text/plain": [
       "'coupling'"
      ]
     },
     "metadata": {},
     "output_type": "display_data"
    },
    {
     "data": {
      "text/latex": [
       "$\\displaystyle \\frac{v_{0} w_{0}^{2}}{x_{0}^{2}}$"
      ],
      "text/plain": [
       "<IPython.core.display.Math object>"
      ]
     },
     "metadata": {},
     "output_type": "display_data"
    },
    {
     "data": {
      "text/plain": [
       "'load_transverse'"
      ]
     },
     "metadata": {},
     "output_type": "display_data"
    },
    {
     "data": {
      "text/latex": [
       "$\\displaystyle p_{0} w_{0} x_{0}^{2}$"
      ],
      "text/plain": [
       "<IPython.core.display.Math object>"
      ]
     },
     "metadata": {},
     "output_type": "display_data"
    },
    {
     "data": {
      "text/plain": [
       "'load_disclinations'"
      ]
     },
     "metadata": {},
     "output_type": "display_data"
    },
    {
     "data": {
      "text/latex": [
       "$\\displaystyle v_{0}$"
      ],
      "text/plain": [
       "<IPython.core.display.Math object>"
      ]
     },
     "metadata": {},
     "output_type": "display_data"
    }
   ],
   "source": [
    "coeff_list\n",
    "\n",
    "for key, value in coeff_list.items():\n",
    "    latex_str = sp.latex(value)\n",
    "    display(f\"{key}\", Math(f\"{latex_str}\"))"
   ]
  },
  {
   "cell_type": "code",
   "execution_count": 75,
   "metadata": {},
   "outputs": [],
   "source": [
    "\n",
    "def apply_conditions(coeff_list):\n",
    "    \"\"\"Apply the conditions and solve for the parameters.\"\"\"\n",
    "    # Set x0 to 1\n",
    "    x0_value = R\n",
    "    D_value = E * h**3\n",
    "    # E: Young's modulus (3D) \n",
    "    \n",
    "    # Substitute x0 and D into the coefficients\n",
    "    coeff_list_substituted = {key: coeff.subs({x0: x0_value, D: D_value}) \n",
    "                              for key, coeff in coeff_list.items()}\n",
    "        \n",
    "    return coeff_list_substituted\n",
    "\n",
    "def rescale_by_membrane(coeff_list):\n",
    "    \"\"\"Rescale the coefficients by the membrane coefficient.\"\"\"\n",
    "    membrane_coeff = coeff_list['membrane']\n",
    "    rescaled_coefficients = {key: sp.simplify(coeff / membrane_coeff) for key, coeff in coeff_list.items()}\n",
    "    return rescaled_coefficients\n",
    "\n",
    "\n",
    "def scaling(coeff_list):\n",
    "    \"\"\"Apply the conditions and solve for the parameters.\"\"\"\n",
    "    # Set x0 to 1\n",
    "    x0_value = 1\n",
    "    \n",
    "    # Substitute x0 and D into the coefficients\n",
    "    coeff_list_substituted = {key: coeff.subs({x0: R}) for key, coeff in coeff_list.items()}\n",
    "    \n",
    "    # Setting membrane, bending, and coupling coefficients to 1\n",
    "    # membrane_condition = sp.Eq(coeff_list_substituted['membrane'], 1)\n",
    "    coupling_condition = sp.Eq(coeff_list['coupling'], 1)\n",
    "    bending_condition = sp.Eq(coeff_list['bending'], 1)\n",
    "    \n",
    "    # Solve for v0, w0\n",
    "    v0_scale = sp.solve(bending_condition, v0)[0]\n",
    "    w0_scale = sp.solve(coupling_condition.subs(v0, v0_scale), w0)[0]\n",
    "    \n",
    "    return v0_scale, w0_scale, coeff_list_substituted"
   ]
  },
  {
   "cell_type": "code",
   "execution_count": 77,
   "metadata": {},
   "outputs": [
    {
     "data": {
      "text/plain": [
       "'membrane'"
      ]
     },
     "metadata": {},
     "output_type": "display_data"
    },
    {
     "data": {
      "text/latex": [
       "$\\displaystyle \\frac{v_{0}^{2}}{E R^{2} h}$"
      ],
      "text/plain": [
       "<IPython.core.display.Math object>"
      ]
     },
     "metadata": {},
     "output_type": "display_data"
    },
    {
     "data": {
      "text/plain": [
       "'bending'"
      ]
     },
     "metadata": {},
     "output_type": "display_data"
    },
    {
     "data": {
      "text/latex": [
       "$\\displaystyle \\frac{E h^{3} w_{0}^{2}}{R^{2}}$"
      ],
      "text/plain": [
       "<IPython.core.display.Math object>"
      ]
     },
     "metadata": {},
     "output_type": "display_data"
    },
    {
     "data": {
      "text/plain": [
       "'coupling'"
      ]
     },
     "metadata": {},
     "output_type": "display_data"
    },
    {
     "data": {
      "text/latex": [
       "$\\displaystyle \\frac{v_{0} w_{0}^{2}}{R^{2}}$"
      ],
      "text/plain": [
       "<IPython.core.display.Math object>"
      ]
     },
     "metadata": {},
     "output_type": "display_data"
    },
    {
     "data": {
      "text/plain": [
       "'load_transverse'"
      ]
     },
     "metadata": {},
     "output_type": "display_data"
    },
    {
     "data": {
      "text/latex": [
       "$\\displaystyle R^{2} p_{0} w_{0}$"
      ],
      "text/plain": [
       "<IPython.core.display.Math object>"
      ]
     },
     "metadata": {},
     "output_type": "display_data"
    },
    {
     "data": {
      "text/plain": [
       "'load_disclinations'"
      ]
     },
     "metadata": {},
     "output_type": "display_data"
    },
    {
     "data": {
      "text/latex": [
       "$\\displaystyle v_{0}$"
      ],
      "text/plain": [
       "<IPython.core.display.Math object>"
      ]
     },
     "metadata": {},
     "output_type": "display_data"
    }
   ],
   "source": [
    "\n",
    "coeff_list_substituted = apply_conditions(coeff_list)\n",
    "coeff_list_substituted\n",
    "\n",
    "for key, value in coeff_list_substituted.items():\n",
    "    latex_str = sp.latex(value)\n",
    "    display(f\"{key}\", Math(f\"{latex_str}\"))"
   ]
  },
  {
   "cell_type": "markdown",
   "metadata": {},
   "source": [
    "# Rescaling the energy\n",
    "\n",
    "$$\n",
    "E(y):=\n",
    "\\frac{v_{0}^{2}}{E R^{2} h}\\underbrace{\\frac{-1}{2}\\int_\\Omega |\\nabla^2 v|^2 - \\nu [v, v]}_{\\text{membrane}} +\n",
    "\\frac{E h^{3} w_{0}^{2}}{R^{2}}\\underbrace{\\frac{1}{2}c_\\nu\\int_\\Omega |\\Delta w|^2 - (1-\\nu) [w, w]}_{\\text{bending}} +\n",
    "\\frac{v_{0} w_{0}^{2}}{R^{2}}\\underbrace{\\frac{1}{2 }\\int_\\Omega J^T \\nabla^2 v J: \\nabla w\\otimes \\nabla w}_{\\text{coupling}} \n",
    "- R^{2} p_{0} w_{0}\\underbrace{\\int_\\Omega p w }_{\\text{transv. pressure}} \n",
    "+ v_{0}\\underbrace{ \\sum_i\\int_\\Omega s_i \\delta_{x_i} v}_{\\text{disclinations}} \n",
    "$$\n",
    "\n",
    "where $E$ is the 3d Young's modulus and $D^*c_\\nu:=D=\\frac{E h^3}{12(1-\\nu^2)}$ is the bending modulus, $h$ is the thickness of the plate"
   ]
  },
  {
   "cell_type": "code",
   "execution_count": 79,
   "metadata": {},
   "outputs": [
    {
     "data": {
      "text/plain": [
       "{'membrane': 1,\n",
       " 'bending': E**2*h**4*w0**2/v0**2,\n",
       " 'coupling': E*h*w0**2/v0,\n",
       " 'load_transverse': E*R**4*h*p0*w0/v0**2,\n",
       " 'load_disclinations': E*R**2*h/v0}"
      ]
     },
     "execution_count": 79,
     "metadata": {},
     "output_type": "execute_result"
    }
   ],
   "source": [
    "rescaled_coefficients = rescale_by_membrane(coeff_list_substituted)\n",
    "rescaled_coefficients"
   ]
  },
  {
   "cell_type": "code",
   "execution_count": 81,
   "metadata": {},
   "outputs": [
    {
     "name": "stdout",
     "output_type": "stream",
     "text": [
      "Rescaled coefficients by the membrane coefficient:\n"
     ]
    },
    {
     "data": {
      "text/plain": [
       "'membrane'"
      ]
     },
     "metadata": {},
     "output_type": "display_data"
    },
    {
     "data": {
      "text/latex": [
       "$\\displaystyle 1$"
      ],
      "text/plain": [
       "<IPython.core.display.Math object>"
      ]
     },
     "metadata": {},
     "output_type": "display_data"
    },
    {
     "data": {
      "text/plain": [
       "'bending'"
      ]
     },
     "metadata": {},
     "output_type": "display_data"
    },
    {
     "data": {
      "text/latex": [
       "$\\displaystyle \\frac{E^{2} h^{4} w_{0}^{2}}{v_{0}^{2}}$"
      ],
      "text/plain": [
       "<IPython.core.display.Math object>"
      ]
     },
     "metadata": {},
     "output_type": "display_data"
    },
    {
     "data": {
      "text/plain": [
       "'coupling'"
      ]
     },
     "metadata": {},
     "output_type": "display_data"
    },
    {
     "data": {
      "text/latex": [
       "$\\displaystyle \\frac{E h w_{0}^{2}}{v_{0}}$"
      ],
      "text/plain": [
       "<IPython.core.display.Math object>"
      ]
     },
     "metadata": {},
     "output_type": "display_data"
    },
    {
     "data": {
      "text/plain": [
       "'load_transverse'"
      ]
     },
     "metadata": {},
     "output_type": "display_data"
    },
    {
     "data": {
      "text/latex": [
       "$\\displaystyle \\frac{E R^{4} h p_{0} w_{0}}{v_{0}^{2}}$"
      ],
      "text/plain": [
       "<IPython.core.display.Math object>"
      ]
     },
     "metadata": {},
     "output_type": "display_data"
    },
    {
     "data": {
      "text/plain": [
       "'load_disclinations'"
      ]
     },
     "metadata": {},
     "output_type": "display_data"
    },
    {
     "data": {
      "text/latex": [
       "$\\displaystyle \\frac{E R^{2} h}{v_{0}}$"
      ],
      "text/plain": [
       "<IPython.core.display.Math object>"
      ]
     },
     "metadata": {},
     "output_type": "display_data"
    }
   ],
   "source": [
    "\n",
    "# Pretty print the rescaled coefficients\n",
    "print(\"Rescaled coefficients by the membrane coefficient:\")\n",
    "\n",
    "for key, value in rescaled_coefficients.items():\n",
    "    latex_str = sp.latex(value)\n",
    "    display(f\"{key}\", Math(f\"{latex_str}\"))"
   ]
  },
  {
   "cell_type": "code",
   "execution_count": 82,
   "metadata": {},
   "outputs": [
    {
     "data": {
      "text/latex": [
       "$\\displaystyle \\frac{E h w_{0}^{2}}{v_{0}} = 1$"
      ],
      "text/plain": [
       "Eq(E*h*w0**2/v0, 1)"
      ]
     },
     "execution_count": 82,
     "metadata": {},
     "output_type": "execute_result"
    }
   ],
   "source": [
    "coupling_condition = sp.Eq(rescaled_coefficients['coupling'], 1)\n",
    "bending_condition = sp.Eq(rescaled_coefficients['bending'], 1)\n",
    "\n",
    "coupling_condition\n"
   ]
  },
  {
   "cell_type": "code",
   "execution_count": 83,
   "metadata": {},
   "outputs": [
    {
     "data": {
      "text/latex": [
       "$\\displaystyle \\frac{E^{2} h^{4} w_{0}^{2}}{v_{0}^{2}} = 1$"
      ],
      "text/plain": [
       "Eq(E**2*h**4*w0**2/v0**2, 1)"
      ]
     },
     "execution_count": 83,
     "metadata": {},
     "output_type": "execute_result"
    }
   ],
   "source": [
    "bending_condition"
   ]
  },
  {
   "cell_type": "code",
   "execution_count": 84,
   "metadata": {},
   "outputs": [
    {
     "data": {
      "text/latex": [
       "$\\displaystyle E h w_{0}^{2}$"
      ],
      "text/plain": [
       "E*h*w0**2"
      ]
     },
     "execution_count": 84,
     "metadata": {},
     "output_type": "execute_result"
    }
   ],
   "source": [
    "v0_scale = sp.solve(coupling_condition, v0)[0]\n",
    "v0_scale"
   ]
  },
  {
   "cell_type": "code",
   "execution_count": 85,
   "metadata": {},
   "outputs": [
    {
     "data": {
      "text/latex": [
       "$\\displaystyle \\frac{h^{2}}{w_{0}^{2}} = 1$"
      ],
      "text/plain": [
       "Eq(h**2/w0**2, 1)"
      ]
     },
     "execution_count": 85,
     "metadata": {},
     "output_type": "execute_result"
    }
   ],
   "source": [
    "bending_condition.subs(v0, v0_scale)"
   ]
  },
  {
   "cell_type": "code",
   "execution_count": 86,
   "metadata": {},
   "outputs": [
    {
     "data": {
      "text/latex": [
       "$\\displaystyle h$"
      ],
      "text/plain": [
       "h"
      ]
     },
     "execution_count": 86,
     "metadata": {},
     "output_type": "execute_result"
    }
   ],
   "source": [
    "w0_scale = sp.solve(bending_condition.subs(v0, v0_scale), w0)[1]\n",
    "w0_scale\n"
   ]
  },
  {
   "cell_type": "code",
   "execution_count": 87,
   "metadata": {},
   "outputs": [
    {
     "data": {
      "text/latex": [
       "$\\displaystyle E h^{3}$"
      ],
      "text/plain": [
       "E*h**3"
      ]
     },
     "execution_count": 87,
     "metadata": {},
     "output_type": "execute_result"
    }
   ],
   "source": [
    "v0_scale = v0_scale.subs(w0, w0_scale)\n",
    "v0_scale"
   ]
  },
  {
   "cell_type": "code",
   "execution_count": 89,
   "metadata": {},
   "outputs": [
    {
     "data": {
      "text/plain": [
       "'membrane'"
      ]
     },
     "metadata": {},
     "output_type": "display_data"
    },
    {
     "data": {
      "text/latex": [
       "$\\displaystyle 1$"
      ],
      "text/plain": [
       "<IPython.core.display.Math object>"
      ]
     },
     "metadata": {},
     "output_type": "display_data"
    },
    {
     "data": {
      "text/plain": [
       "'bending'"
      ]
     },
     "metadata": {},
     "output_type": "display_data"
    },
    {
     "data": {
      "text/latex": [
       "$\\displaystyle 1$"
      ],
      "text/plain": [
       "<IPython.core.display.Math object>"
      ]
     },
     "metadata": {},
     "output_type": "display_data"
    },
    {
     "data": {
      "text/plain": [
       "'coupling'"
      ]
     },
     "metadata": {},
     "output_type": "display_data"
    },
    {
     "data": {
      "text/latex": [
       "$\\displaystyle 1$"
      ],
      "text/plain": [
       "<IPython.core.display.Math object>"
      ]
     },
     "metadata": {},
     "output_type": "display_data"
    },
    {
     "data": {
      "text/plain": [
       "'load_transverse'"
      ]
     },
     "metadata": {},
     "output_type": "display_data"
    },
    {
     "data": {
      "text/latex": [
       "$\\displaystyle \\frac{R^{4} p_{0}}{E h^{4}}$"
      ],
      "text/plain": [
       "<IPython.core.display.Math object>"
      ]
     },
     "metadata": {},
     "output_type": "display_data"
    },
    {
     "data": {
      "text/plain": [
       "'load_disclinations'"
      ]
     },
     "metadata": {},
     "output_type": "display_data"
    },
    {
     "data": {
      "text/latex": [
       "$\\displaystyle \\frac{R^{2}}{h^{2}}$"
      ],
      "text/plain": [
       "<IPython.core.display.Math object>"
      ]
     },
     "metadata": {},
     "output_type": "display_data"
    }
   ],
   "source": [
    "coeff_list_scaled = {key: coeff.subs({v0: v0_scale, w0: w0_scale, x0: R}) \n",
    "                            for key, coeff in rescaled_coefficients.items()}\n",
    "for key, value in coeff_list_scaled.items():\n",
    "    latex_str = sp.latex(value)\n",
    "    display(f\"{key}\", Math(f\"{latex_str}\"))"
   ]
  },
  {
   "cell_type": "code",
   "execution_count": 52,
   "metadata": {},
   "outputs": [
    {
     "name": "stdout",
     "output_type": "stream",
     "text": [
      "1\n",
      "1\n",
      "1\n"
     ]
    },
    {
     "data": {
      "text/plain": [
       "(None, None, None)"
      ]
     },
     "execution_count": 52,
     "metadata": {},
     "output_type": "execute_result"
    }
   ],
   "source": [
    "print(sp.latex(coeff_list_scaled['membrane'])), print(sp.latex(coeff_list_scaled['coupling'])), print(sp.latex(coeff_list_scaled['bending']))"
   ]
  },
  {
   "cell_type": "code",
   "execution_count": 53,
   "metadata": {},
   "outputs": [
    {
     "name": "stdout",
     "output_type": "stream",
     "text": [
      "\\frac{R^{4} p_{0}}{E h^{4}}\n",
      "\\frac{R^{2}}{h^{2}}\n"
     ]
    },
    {
     "data": {
      "text/plain": [
       "(None, None)"
      ]
     },
     "execution_count": 53,
     "metadata": {},
     "output_type": "execute_result"
    }
   ],
   "source": [
    "print(sp.latex(coeff_list_scaled['load_transverse'])), print(sp.latex(coeff_list_scaled['load_disclinations']))"
   ]
  },
  {
   "cell_type": "markdown",
   "metadata": {},
   "source": [
    "# Rescaled energy\n",
    "\n",
    "$$\n",
    "\\tilde E(y):=\n",
    "\\underbrace{\\frac{-1}{2}\\int_\\Omega |\\nabla^2 v|^2 - \\nu [v, v]}_{\\text{membrane}} +\n",
    "\\underbrace{\\frac{1}{2}c_\\nu\\int_\\Omega |\\Delta w|^2 - (1-\\nu) [w, w]}_{\\text{bending}} +\n",
    "\\underbrace{\\frac{1}{2 }\\int_\\Omega J^T \\nabla^2 v J: \\nabla w\\otimes \\nabla w}_{\\text{coupling}} \n",
    "- \\frac{R^{4} p_{0}}{E h^{4}}\\underbrace{\\int_\\Omega p w }_{\\text{transv. pressure}} \n",
    "+ \\frac{R^{2}}{h^{2}}\\underbrace{ \\sum_i\\int_\\Omega s_i \\delta(x_i) v}_{\\text{disclinations}} \n",
    "$$\n",
    "\n",
    "where $\\tilde E = E/\\text{[membrane]}$,\n",
    "$v,w$ are non-dimensional quantities, $c_\\nu:=\\frac{1}{12(1-\\nu^2)}$.\n",
    "Defining $\\alpha:=\\frac{R^{4} p_{0}}{E h^{4}}$, $\\beta:=\\frac{R^{2}}{h^{2}}$\n",
    "one can always choose $E=R=1$\n",
    "so that\n",
    "$\\alpha:=\\tilde p_{0}$, $\\beta:=\\frac{1}{h^{2}}$\n",
    "\n",
    "\n",
    "\n",
    "$$\n",
    "\\tilde E(y):=\n",
    "\\underbrace{\\frac{-1}{2}\\int_\\Omega |\\nabla^2 v|^2 - \\nu [v, v]}_{\\text{membrane}} +\n",
    "\\underbrace{\\frac{1}{2}c_\\nu\\int_\\Omega |\\Delta w|^2 - (1-\\nu) [w, w]}_{\\text{bending}} +\n",
    "\\underbrace{\\frac{1}{2 }\\int_\\Omega J^T \\nabla^2 v J: \\nabla w\\otimes \\nabla w}_{\\text{coupling}} \n",
    "- \\tilde p_{0}\\underbrace{\\int_\\Omega p w }_{\\text{transv. pressure}} \n",
    "+ \\frac{1}{h^{2}}\\underbrace{ \\sum_i\\int_\\Omega s_i \\delta(x_i) v}_{\\text{disclinations}} \n",
    "$$\n",
    "\n",
    "\n",
    "Graphene-like applications\n",
    "$h\\sim10^{-10} \\text{m}, E\\sim 10^{11}$\n",
    "\n",
    "simulations: $R$ hundreds of atoms ($10^{-8}$ m)\n",
    "large specimens: mm-size ($10^{-3}$ m)\n",
    " https://www.nature.com/articles/s41586-021-03753-3\n",
    "\n",
    "$h/R \\sim 10^{-2} \\div 10^{-7}$\n",
    "\n",
    "$(h/R)^4 \\sim 10^{-8} \\div 10^{-28}$\n",
    "\n",
    "$E(h/R)^4 \\sim 10^{3} \\div 10^{-17}$"
   ]
  },
  {
   "cell_type": "code",
   "execution_count": 32,
   "metadata": {},
   "outputs": [
    {
     "data": {
      "text/latex": [
       "$\\displaystyle \\frac{p_{0}}{E^{2} h^{3}}$"
      ],
      "text/plain": [
       "p0/(E**2*h**3)"
      ]
     },
     "execution_count": 32,
     "metadata": {},
     "output_type": "execute_result"
    }
   ],
   "source": [
    "coeff_list_scaled['load_transverse']/coeff_list_scaled['load_disclinations']"
   ]
  },
  {
   "cell_type": "code",
   "execution_count": 58,
   "metadata": {},
   "outputs": [
    {
     "data": {
      "text/latex": [
       "$\\displaystyle E h^{3}$"
      ],
      "text/plain": [
       "<IPython.core.display.Math object>"
      ]
     },
     "metadata": {},
     "output_type": "display_data"
    },
    {
     "data": {
      "text/latex": [
       "$\\displaystyle h$"
      ],
      "text/plain": [
       "<IPython.core.display.Math object>"
      ]
     },
     "metadata": {},
     "output_type": "display_data"
    },
    {
     "data": {
      "text/plain": [
       "(None, None)"
      ]
     },
     "execution_count": 58,
     "metadata": {},
     "output_type": "execute_result"
    }
   ],
   "source": [
    "display(Math(sp.latex(v0_scale))), display(Math(sp.latex(w0_scale)))\n"
   ]
  },
  {
   "cell_type": "code",
   "execution_count": null,
   "metadata": {},
   "outputs": [],
   "source": []
  }
 ],
 "metadata": {
  "kernelspec": {
   "display_name": ".venv",
   "language": "python",
   "name": "python3"
  },
  "language_info": {
   "codemirror_mode": {
    "name": "ipython",
    "version": 3
   },
   "file_extension": ".py",
   "mimetype": "text/x-python",
   "name": "python",
   "nbconvert_exporter": "python",
   "pygments_lexer": "ipython3",
   "version": "3.12.2"
  }
 },
 "nbformat": 4,
 "nbformat_minor": 2
}
