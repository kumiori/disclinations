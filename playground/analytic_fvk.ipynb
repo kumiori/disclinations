{
 "cells": [
  {
   "cell_type": "code",
   "execution_count": 5,
   "metadata": {},
   "outputs": [],
   "source": [
    "import sympy as sp\n",
    "from IPython.display import display, Math\n",
    "\n",
    "# Define symbols\n",
    "x, y = sp.symbols('x y')\n",
    "w = sp.Function('w')(x, y)\n",
    "phi = sp.Function('phi')(x, y)\n",
    "\n",
    "\n"
   ]
  },
  {
   "cell_type": "code",
   "execution_count": 6,
   "metadata": {},
   "outputs": [],
   "source": [
    "# Define the Laplacian\n",
    "def laplacian(f):\n",
    "    return sp.diff(f, x, x) + sp.diff(f, y, y)\n",
    "\n",
    "# Define the Biharmonic operator\n",
    "def biharmonic(f):\n",
    "    return laplacian(laplacian(f))\n",
    "\n",
    "# Define the Monge-Ampère bracket\n",
    "def monge_ampere_bracket(f, g):\n",
    "    f_xx = sp.diff(f, x, x)\n",
    "    f_yy = sp.diff(f, y, y)\n",
    "    f_xy = sp.diff(f, x, y)\n",
    "    \n",
    "    g_xx = sp.diff(g, x, x)\n",
    "    g_yy = sp.diff(g, y, y)\n",
    "    g_xy = sp.diff(g, x, y)\n",
    "    \n",
    "    return f_xx * g_yy + f_yy * g_xx - 2 * f_xy * g_xy\n"
   ]
  },
  {
   "cell_type": "code",
   "execution_count": 8,
   "metadata": {},
   "outputs": [],
   "source": [
    "\n",
    "# Calculate the Laplacians\n",
    "laplacian_w = laplacian(w)\n",
    "laplacian_phi = laplacian(phi)\n",
    "\n",
    "# Calculate the Biharmonic of w\n",
    "biharmonic_w = biharmonic(w)\n",
    "\n",
    "# Calculate the Monge-Ampère brackets\n",
    "monge_ampere_w_w = monge_ampere_bracket(w, w)\n",
    "monge_ampere_phi_w = monge_ampere_bracket(phi, w)\n"
   ]
  },
  {
   "cell_type": "code",
   "execution_count": 9,
   "metadata": {},
   "outputs": [
    {
     "data": {
      "text/latex": [
       "$\\displaystyle \\text{Laplacian of } w:$"
      ],
      "text/plain": [
       "<IPython.core.display.Math object>"
      ]
     },
     "metadata": {},
     "output_type": "display_data"
    },
    {
     "data": {
      "text/latex": [
       "$\\displaystyle \\frac{\\partial^{2}}{\\partial x^{2}} w{\\left(x,y \\right)} + \\frac{\\partial^{2}}{\\partial y^{2}} w{\\left(x,y \\right)}$"
      ],
      "text/plain": [
       "<IPython.core.display.Math object>"
      ]
     },
     "metadata": {},
     "output_type": "display_data"
    },
    {
     "data": {
      "text/latex": [
       "$\\displaystyle \\text{Laplacian of } \\phi:$"
      ],
      "text/plain": [
       "<IPython.core.display.Math object>"
      ]
     },
     "metadata": {},
     "output_type": "display_data"
    },
    {
     "data": {
      "text/latex": [
       "$\\displaystyle \\frac{\\partial^{2}}{\\partial x^{2}} \\phi{\\left(x,y \\right)} + \\frac{\\partial^{2}}{\\partial y^{2}} \\phi{\\left(x,y \\right)}$"
      ],
      "text/plain": [
       "<IPython.core.display.Math object>"
      ]
     },
     "metadata": {},
     "output_type": "display_data"
    },
    {
     "data": {
      "text/latex": [
       "$\\displaystyle \\text{Biharmonic of } w:$"
      ],
      "text/plain": [
       "<IPython.core.display.Math object>"
      ]
     },
     "metadata": {},
     "output_type": "display_data"
    },
    {
     "data": {
      "text/latex": [
       "$\\displaystyle \\frac{\\partial^{4}}{\\partial x^{4}} w{\\left(x,y \\right)} + \\frac{\\partial^{4}}{\\partial y^{4}} w{\\left(x,y \\right)} + 2 \\frac{\\partial^{4}}{\\partial y^{2}\\partial x^{2}} w{\\left(x,y \\right)}$"
      ],
      "text/plain": [
       "<IPython.core.display.Math object>"
      ]
     },
     "metadata": {},
     "output_type": "display_data"
    },
    {
     "data": {
      "text/latex": [
       "$\\displaystyle \\text{Monge-Ampère bracket } [w, w]:$"
      ],
      "text/plain": [
       "<IPython.core.display.Math object>"
      ]
     },
     "metadata": {},
     "output_type": "display_data"
    },
    {
     "data": {
      "text/latex": [
       "$\\displaystyle 2 \\frac{\\partial^{2}}{\\partial x^{2}} w{\\left(x,y \\right)} \\frac{\\partial^{2}}{\\partial y^{2}} w{\\left(x,y \\right)} - 2 \\left(\\frac{\\partial^{2}}{\\partial y\\partial x} w{\\left(x,y \\right)}\\right)^{2}$"
      ],
      "text/plain": [
       "<IPython.core.display.Math object>"
      ]
     },
     "metadata": {},
     "output_type": "display_data"
    },
    {
     "data": {
      "text/latex": [
       "$\\displaystyle \\text{Monge-Ampère bracket } [\\phi, w]:$"
      ],
      "text/plain": [
       "<IPython.core.display.Math object>"
      ]
     },
     "metadata": {},
     "output_type": "display_data"
    },
    {
     "data": {
      "text/latex": [
       "$\\displaystyle \\frac{\\partial^{2}}{\\partial x^{2}} \\phi{\\left(x,y \\right)} \\frac{\\partial^{2}}{\\partial y^{2}} w{\\left(x,y \\right)} + \\frac{\\partial^{2}}{\\partial y^{2}} \\phi{\\left(x,y \\right)} \\frac{\\partial^{2}}{\\partial x^{2}} w{\\left(x,y \\right)} - 2 \\frac{\\partial^{2}}{\\partial y\\partial x} \\phi{\\left(x,y \\right)} \\frac{\\partial^{2}}{\\partial y\\partial x} w{\\left(x,y \\right)}$"
      ],
      "text/plain": [
       "<IPython.core.display.Math object>"
      ]
     },
     "metadata": {},
     "output_type": "display_data"
    }
   ],
   "source": [
    "# Display the results using MathJax\n",
    "display(Math(r\"\\text{Laplacian of } w:\"))\n",
    "display(Math(sp.latex(laplacian_w)))\n",
    "\n",
    "display(Math(r\"\\text{Laplacian of } \\phi:\"))\n",
    "display(Math(sp.latex(laplacian_phi)))\n",
    "\n",
    "display(Math(r\"\\text{Biharmonic of } w:\"))\n",
    "display(Math(sp.latex(biharmonic_w)))\n",
    "\n",
    "display(Math(r\"\\text{Monge-Ampère bracket } [w, w]:\"))\n",
    "display(Math(sp.latex(monge_ampere_w_w)))\n",
    "\n",
    "display(Math(r\"\\text{Monge-Ampère bracket } [\\phi, w]:\"))\n",
    "display(Math(sp.latex(monge_ampere_phi_w)))"
   ]
  },
  {
   "cell_type": "code",
   "execution_count": 11,
   "metadata": {},
   "outputs": [],
   "source": [
    "D, E, h = sp.symbols('D E h')  # Bending rigidity, Young's modulus, and plate thickness\n",
    "p = sp.Function('p')(x, y)  # External load\n"
   ]
  },
  {
   "cell_type": "code",
   "execution_count": 12,
   "metadata": {},
   "outputs": [],
   "source": [
    "\n",
    "# Define the FvK equations\n",
    "# 1. Biharmonic equation for transverse displacement w\n",
    "fvk_eq1 = biharmonic(w) - monge_ampere_bracket(phi, w) - p / D\n",
    "\n",
    "# 2. Compatibility equation for Airy stress function phi\n",
    "fvk_eq2 = laplacian(phi) + E * h / 2 * monge_ampere_bracket(w, w)\n"
   ]
  },
  {
   "cell_type": "code",
   "execution_count": 13,
   "metadata": {},
   "outputs": [
    {
     "data": {
      "text/latex": [
       "$\\displaystyle \\text{First FvK equation:}$"
      ],
      "text/plain": [
       "<IPython.core.display.Math object>"
      ]
     },
     "metadata": {},
     "output_type": "display_data"
    },
    {
     "data": {
      "text/latex": [
       "$\\displaystyle - \\frac{\\partial^{2}}{\\partial x^{2}} \\phi{\\left(x,y \\right)} \\frac{\\partial^{2}}{\\partial y^{2}} w{\\left(x,y \\right)} - \\frac{\\partial^{2}}{\\partial y^{2}} \\phi{\\left(x,y \\right)} \\frac{\\partial^{2}}{\\partial x^{2}} w{\\left(x,y \\right)} + \\frac{\\partial^{4}}{\\partial x^{4}} w{\\left(x,y \\right)} + \\frac{\\partial^{4}}{\\partial y^{4}} w{\\left(x,y \\right)} + 2 \\frac{\\partial^{2}}{\\partial y\\partial x} \\phi{\\left(x,y \\right)} \\frac{\\partial^{2}}{\\partial y\\partial x} w{\\left(x,y \\right)} + 2 \\frac{\\partial^{4}}{\\partial y^{2}\\partial x^{2}} w{\\left(x,y \\right)} - \\frac{p{\\left(x,y \\right)}}{D}$"
      ],
      "text/plain": [
       "<IPython.core.display.Math object>"
      ]
     },
     "metadata": {},
     "output_type": "display_data"
    },
    {
     "data": {
      "text/latex": [
       "$\\displaystyle \\text{Second FvK equation:}$"
      ],
      "text/plain": [
       "<IPython.core.display.Math object>"
      ]
     },
     "metadata": {},
     "output_type": "display_data"
    },
    {
     "data": {
      "text/latex": [
       "$\\displaystyle \\frac{E h \\left(2 \\frac{\\partial^{2}}{\\partial x^{2}} w{\\left(x,y \\right)} \\frac{\\partial^{2}}{\\partial y^{2}} w{\\left(x,y \\right)} - 2 \\left(\\frac{\\partial^{2}}{\\partial y\\partial x} w{\\left(x,y \\right)}\\right)^{2}\\right)}{2} + \\frac{\\partial^{2}}{\\partial x^{2}} \\phi{\\left(x,y \\right)} + \\frac{\\partial^{2}}{\\partial y^{2}} \\phi{\\left(x,y \\right)}$"
      ],
      "text/plain": [
       "<IPython.core.display.Math object>"
      ]
     },
     "metadata": {},
     "output_type": "display_data"
    },
    {
     "data": {
      "text/latex": [
       "$\\displaystyle \\text{Simplified first FvK equation:}$"
      ],
      "text/plain": [
       "<IPython.core.display.Math object>"
      ]
     },
     "metadata": {},
     "output_type": "display_data"
    },
    {
     "data": {
      "text/latex": [
       "$\\displaystyle - \\frac{\\partial^{2}}{\\partial x^{2}} \\phi{\\left(x,y \\right)} \\frac{\\partial^{2}}{\\partial y^{2}} w{\\left(x,y \\right)} - \\frac{\\partial^{2}}{\\partial y^{2}} \\phi{\\left(x,y \\right)} \\frac{\\partial^{2}}{\\partial x^{2}} w{\\left(x,y \\right)} + \\frac{\\partial^{4}}{\\partial x^{4}} w{\\left(x,y \\right)} + \\frac{\\partial^{4}}{\\partial y^{4}} w{\\left(x,y \\right)} + 2 \\frac{\\partial^{2}}{\\partial y\\partial x} \\phi{\\left(x,y \\right)} \\frac{\\partial^{2}}{\\partial y\\partial x} w{\\left(x,y \\right)} + 2 \\frac{\\partial^{4}}{\\partial y^{2}\\partial x^{2}} w{\\left(x,y \\right)} - \\frac{1}{D}$"
      ],
      "text/plain": [
       "<IPython.core.display.Math object>"
      ]
     },
     "metadata": {},
     "output_type": "display_data"
    },
    {
     "data": {
      "text/latex": [
       "$\\displaystyle \\text{Simplified second FvK equation:}$"
      ],
      "text/plain": [
       "<IPython.core.display.Math object>"
      ]
     },
     "metadata": {},
     "output_type": "display_data"
    },
    {
     "data": {
      "text/latex": [
       "$\\displaystyle E h \\left(\\frac{\\partial^{2}}{\\partial x^{2}} w{\\left(x,y \\right)} \\frac{\\partial^{2}}{\\partial y^{2}} w{\\left(x,y \\right)} - \\left(\\frac{\\partial^{2}}{\\partial y\\partial x} w{\\left(x,y \\right)}\\right)^{2}\\right) + \\frac{\\partial^{2}}{\\partial x^{2}} \\phi{\\left(x,y \\right)} + \\frac{\\partial^{2}}{\\partial y^{2}} \\phi{\\left(x,y \\right)}$"
      ],
      "text/plain": [
       "<IPython.core.display.Math object>"
      ]
     },
     "metadata": {},
     "output_type": "display_data"
    }
   ],
   "source": [
    "\n",
    "# Display the equations using MathJax\n",
    "display(Math(r\"\\text{First FvK equation:}\"))\n",
    "display(Math(sp.latex(fvk_eq1)))\n",
    "\n",
    "display(Math(r\"\\text{Second FvK equation:}\"))\n",
    "display(Math(sp.latex(fvk_eq2)))\n",
    "\n",
    "# Substitute a sample external load and simplify the equations\n",
    "sample_p = 1  # Example load\n",
    "fvk_eq1_simplified = fvk_eq1.subs(p, sample_p).simplify()\n",
    "fvk_eq2_simplified = fvk_eq2.simplify()\n",
    "\n",
    "# Display the simplified equations\n",
    "display(Math(r\"\\text{Simplified first FvK equation:}\"))\n",
    "display(Math(sp.latex(fvk_eq1_simplified)))\n",
    "\n",
    "display(Math(r\"\\text{Simplified second FvK equation:}\"))\n",
    "display(Math(sp.latex(fvk_eq2_simplified)))"
   ]
  },
  {
   "cell_type": "code",
   "execution_count": 17,
   "metadata": {},
   "outputs": [
    {
     "data": {
      "text/latex": [
       "$\\displaystyle E h \\left(\\frac{\\partial^{2}}{\\partial x^{2}} w{\\left(x,y \\right)} \\frac{\\partial^{2}}{\\partial y^{2}} w{\\left(x,y \\right)} - \\left(\\frac{\\partial^{2}}{\\partial y\\partial x} w{\\left(x,y \\right)}\\right)^{2}\\right) + \\frac{\\partial^{2}}{\\partial x^{2}} \\phi{\\left(x,y \\right)} + \\frac{\\partial^{2}}{\\partial y^{2}} \\phi{\\left(x,y \\right)}$"
      ],
      "text/plain": [
       "E*h*(Derivative(w(x, y), (x, 2))*Derivative(w(x, y), (y, 2)) - Derivative(w(x, y), x, y)**2) + Derivative(phi(x, y), (x, 2)) + Derivative(phi(x, y), (y, 2))"
      ]
     },
     "execution_count": 17,
     "metadata": {},
     "output_type": "execute_result"
    }
   ],
   "source": [
    "fvk_eq2.simplify()"
   ]
  },
  {
   "cell_type": "code",
   "execution_count": 18,
   "metadata": {},
   "outputs": [
    {
     "data": {
      "text/latex": [
       "$\\displaystyle - \\frac{\\partial^{2}}{\\partial x^{2}} \\phi{\\left(x,y \\right)} \\frac{\\partial^{2}}{\\partial y^{2}} w{\\left(x,y \\right)} - \\frac{\\partial^{2}}{\\partial y^{2}} \\phi{\\left(x,y \\right)} \\frac{\\partial^{2}}{\\partial x^{2}} w{\\left(x,y \\right)} + \\frac{\\partial^{4}}{\\partial x^{4}} w{\\left(x,y \\right)} + \\frac{\\partial^{4}}{\\partial y^{4}} w{\\left(x,y \\right)} + 2 \\frac{\\partial^{2}}{\\partial y\\partial x} \\phi{\\left(x,y \\right)} \\frac{\\partial^{2}}{\\partial y\\partial x} w{\\left(x,y \\right)} + 2 \\frac{\\partial^{4}}{\\partial y^{2}\\partial x^{2}} w{\\left(x,y \\right)} - \\frac{p{\\left(x,y \\right)}}{D}$"
      ],
      "text/plain": [
       "-Derivative(phi(x, y), (x, 2))*Derivative(w(x, y), (y, 2)) - Derivative(phi(x, y), (y, 2))*Derivative(w(x, y), (x, 2)) + Derivative(w(x, y), (x, 4)) + Derivative(w(x, y), (y, 4)) + 2*Derivative(phi(x, y), x, y)*Derivative(w(x, y), x, y) + 2*Derivative(w(x, y), (x, 2), (y, 2)) - p(x, y)/D"
      ]
     },
     "execution_count": 18,
     "metadata": {},
     "output_type": "execute_result"
    }
   ],
   "source": [
    "fvk_eq1.simplify()"
   ]
  },
  {
   "cell_type": "markdown",
   "metadata": {},
   "source": [
    "### Verify solution for constant pressure"
   ]
  },
  {
   "cell_type": "markdown",
   "metadata": {},
   "source": [
    "$$D \\nabla^4 w = p + [\\phi, w ]$$\n",
    "   $$\n",
    "   \\nabla^4 \\phi + E h [\\phi, w ] = 0\n",
    "   $$\n",
    "   where $E$ is the Young's modulus of the plate, $h$ is the thickness, and $\\nu$ is the Poisson's ratio.\n",
    "\n",
    "### In Cartesian coordinates, \n",
    "the Laplacian $\\nabla^2$ and the biharmonic operator $\\nabla^4$ are given by:\n",
    "$$\n",
    "\\nabla^2 f = \\frac{\\partial^2 f}{\\partial x^2} + \\frac{\\partial^2 f}{\\partial y^2}\n",
    "$$\n",
    "$$\n",
    "\\nabla^4 f = \\nabla^2(\\nabla^2 f) = \\frac{\\partial^4 f}{\\partial x^4} + 2\\frac{\\partial^4 f}{\\partial x^2 \\partial y^2} + \\frac{\\partial^4 f}{\\partial y^4}\n",
    "$$\n",
    "\n",
    "  where $D = \\frac{Eh^3}{12(1-\\nu^2)}$ is the flexural rigidity of the plate, $p$ is the external pressure, and $[\\phi, w ]$ is the Monge-Ampère term defined as:\n",
    "  $$\n",
    "  \\left\\{\\phi, w \\right\\} = \\frac{\\partial^2 \\phi}{\\partial x_i \\partial x_j} \\frac{\\partial^2 w}{\\partial x_i \\partial x_j} - \\frac{\\partial^2 \\phi}{\\partial x_i \\partial x_j} \\frac{\\partial^2 w}{\\partial x_j \\partial x_i}\n",
    "  $$\n",
    "\n",
    "\n",
    "### FvK Equations in Polar Coordinates\n",
    "\n",
    "In polar coordinates $(r, \\theta)$, the biharmonic equation for $w$ and the compatibility equation for $\\phi$ are:\n",
    "\n",
    "1. **Biharmonic equation for $w(r, \\theta)$:**\n",
    "   $$\n",
    "   D \\left( \\frac{\\partial^4 w}{\\partial r^4} + \\frac{2}{r} \\frac{\\partial^3 w}{\\partial r^3} + \\frac{1}{r^2} \\frac{\\partial^2 w}{\\partial r^2} - \\frac{1}{r^3} \\frac{\\partial w}{\\partial r} + \\frac{2}{r^2} \\frac{\\partial^2 w}{\\partial r^2 \\partial \\theta^2} - \\frac{1}{r^4} \\frac{\\partial^2 w}{\\partial \\theta^2} + \\frac{1}{r^4} \\frac{\\partial^4 w}{\\partial \\theta^4} \\right) = p + \\left\\{\\phi, w\\right\\}\n",
    "   $$\n",
    "\n",
    "2. **Compatibility equation for $\\phi(r, \\theta)$:**\n",
    "   $$\n",
    "   \\frac{\\partial^4 \\phi}{\\partial r^4} + \\frac{2}{r} \\frac{\\partial^3 \\phi}{\\partial r^3} + \\frac{1}{r^2} \\frac{\\partial^2 \\phi}{\\partial r^2} - \\frac{1}{r^3} \\frac{\\partial \\phi}{\\partial r} + \\frac{2}{r^2} \\frac{\\partial^2 \\phi}{\\partial r^2 \\partial \\theta^2} - \\frac{1}{r^4} \\frac{\\partial^2 \\phi}{\\partial \\theta^2} + \\frac{1}{r^4} \\frac{\\partial^4 \\phi}{\\partial \\theta^4} + E h \\left\\{\\phi, w\\right\\} = 0\n",
    "   $$\n",
    "\n",
    "The Monge-Ampère term in polar coordinates is:\n",
    "$$\n",
    "\\left\\{\\phi, w \\right\\} = \\frac{1}{r^2} \\left( \\frac{\\partial^2 \\phi}{\\partial r^2} \\frac{\\partial^2 w}{\\partial \\theta^2} + \\frac{\\partial^2 \\phi}{\\partial \\theta^2} \\frac{\\partial^2 w}{\\partial r^2} - 2 \\frac{\\partial^2 \\phi}{\\partial r \\partial \\theta} \\frac{\\partial^2 w}{\\partial r \\partial \\theta} \\right)\n",
    "$$\n"
   ]
  },
  {
   "cell_type": "code",
   "execution_count": 23,
   "metadata": {},
   "outputs": [
    {
     "name": "stdout",
     "output_type": "stream",
     "text": [
      "0\n",
      "0\n"
     ]
    }
   ],
   "source": [
    "# Define symbols and coordinate system\n",
    "r, R, theta = sp.symbols('r R theta')\n",
    "q, D, E, h = sp.symbols('q D E h')\n",
    "\n",
    "# Define the given w(r)\n",
    "w = (q * R**4 / (64 * D)) * (1 - r**2 / R**2)**2\n",
    "v = 0\n",
    "\n",
    "# Define the Laplacian in polar coordinates\n",
    "laplacian_w = sp.diff(w, r, r) + (1/r) * sp.diff(w, r) + (1/r**2) * sp.diff(w, theta, theta)\n",
    "laplacian_v = sp.diff(v, r, r) + (1/r) * sp.diff(v, r) + (1/r**2) * sp.diff(v, theta, theta)\n",
    "\n",
    "# Define the Biharmonic operator in polar coordinates\n",
    "biharmonic_w = sp.diff(laplacian_w, r, r) + (1/r) * sp.diff(laplacian_w, r) + (1/r**2) * sp.diff(laplacian_w, theta, theta)\n",
    "biharmonic_v = sp.diff(laplacian_v, r, r) + (1/r) * sp.diff(laplacian_v, r) + (1/r**2) * sp.diff(laplacian_v, theta, theta)\n",
    "\n",
    "# Assume a form for phi (simple form for verification)\n",
    "phi = sp.Function('phi')(r)\n",
    "\n",
    "# Derivatives of phi\n",
    "phi_rr = sp.diff(phi, r, r)\n",
    "phi_tt = sp.diff(phi, theta, theta)\n",
    "\n",
    "# Compute Monge-Ampère term in polar coordinates\n",
    "monge_ampere = (1/r**2) * (phi_rr * sp.diff(w, theta, theta) + phi_tt * sp.diff(w, r, r) - 2 * sp.diff(phi, r, theta) * sp.diff(w, r, theta))\n",
    "\n",
    "# Define the FvK equations\n",
    "fvk_eq1 = D * biharmonic_w - q - monge_ampere\n",
    "fvk_eq2 = biharmonic_v + E * h * monge_ampere\n",
    "\n",
    "# Simplify and check if fvk_eq1 is zero\n",
    "fvk_eq1_simplified = fvk_eq1.simplify()\n",
    "fvk_eq2_simplified = fvk_eq2.simplify()\n",
    "\n",
    "# Display the equations\n",
    "sp.pretty_print(fvk_eq1_simplified)\n",
    "sp.pretty_print(fvk_eq2_simplified)"
   ]
  },
  {
   "cell_type": "code",
   "execution_count": null,
   "metadata": {},
   "outputs": [],
   "source": []
  }
 ],
 "metadata": {
  "kernelspec": {
   "display_name": ".venv",
   "language": "python",
   "name": "python3"
  },
  "language_info": {
   "codemirror_mode": {
    "name": "ipython",
    "version": 3
   },
   "file_extension": ".py",
   "mimetype": "text/x-python",
   "name": "python",
   "nbconvert_exporter": "python",
   "pygments_lexer": "ipython3",
   "version": "3.12.2"
  }
 },
 "nbformat": 4,
 "nbformat_minor": 2
}
